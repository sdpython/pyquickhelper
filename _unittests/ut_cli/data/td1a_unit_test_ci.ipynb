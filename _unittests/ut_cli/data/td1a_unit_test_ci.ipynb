{
  "cells": [
    {
      "cell_type": "markdown",
      "metadata": {},
      "source": [
        "# 1A.soft - Tests unitaires, setup et ing\u00e9ni\u00e9rie logicielle\n",
        "\n",
        "On v\u00e9rifie toujours qu'un code fonctionne quand on l'\u00e9crit mais cela ne veut pas dire qu'il continuera \u00e0 fonctionner \u00e0 l'avenir. La robustesse d'un code vient de tout ce qu'on fait autour pour s'assurer qu'il continue d'ex\u00e9cuter correctement."
      ]
    },
    {
      "cell_type": "code",
      "execution_count": 2,
      "metadata": {
        "collapsed": true
      },
      "outputs": [],
      "source": [
        "from pyensae.graphhelper import draw_diagram"
      ]
    },
    {
      "cell_type": "markdown",
      "metadata": {},
      "source": [
        "## Petite histoire\n",
        "\n",
        "Supposons que vous ayez impl\u00e9ment\u00e9 trois fonctions qui d\u00e9pendent les unes des autres. la fonction ``f3`` utilise les fonctions ``f1`` et ``f2``."
      ]
    },
    {
      "cell_type": "code",
      "execution_count": 5,
      "metadata": {
        "collapsed": true
      },
      "outputs": [],
      "source": [
        "def solve_polynom(a, b, c):\n",
        "    # ....\n",
        "    return None"
      ]
    },
    {
      "cell_type": "markdown",
      "metadata": {},
      "source": [
        "## Ecrire un test unitaire\n",
        "\n",
        "Un [test unitaire](https://fr.wikipedia.org/wiki/Test_unitaire) est une fonction qui s'assure qu'une autre fonction retourne bien le r\u00e9sultat souhait\u00e9. Le plus simple est d'utiliser le module standard [unittest](https://docs.python.org/3/library/unittest.html) et de quitter les notebooks pour utiliser des fichiers. Parmi les autres alternatives : [pytest](https://docs.pytest.org/en/latest/) et [nose](http://nose.readthedocs.io/en/latest/)."
      ]
    },
    {
      "cell_type": "code",
      "execution_count": 6,
      "metadata": {
        "collapsed": true
      },
      "outputs": [],
      "source": []
    },
    {
      "cell_type": "markdown",
      "metadata": {},
      "source": [
        "## Couverture ou coverage\n",
        "\n",
        "La [couverture de code](https://fr.wikipedia.org/wiki/Couverture_de_code) est l'ensemble des lignes ex\u00e9cut\u00e9es par les tests unitaires. Cela ne signifie pas toujours qu'elles soient correctes mais seulement qu'elles ont \u00e9t\u00e9 ex\u00e9cut\u00e9es une ou plusieurs sans provoquer d'erreur. Le module le plus simple est [coverage](https://coverage.readthedocs.io/en/coverage-4.4.1/). Il produit des rapports de ce type : [mlstatpy/coverage](https://codecov.io/github/sdpython/mlstatpy?branch=master)."
      ]
    },
    {
      "cell_type": "code",
      "execution_count": 7,
      "metadata": {
        "collapsed": true
      },
      "outputs": [],
      "source": []
    },
    {
      "cell_type": "markdown",
      "metadata": {},
      "source": [
        "## Cr\u00e9er un compte GitHub\n",
        "\n",
        "[GitHub](https://github.com/) est un site qui contient la majorit\u00e9 des codes des projets open-source. Il faut cr\u00e9er un compte si vous n'en avez pas, c'est gratuit pour les projets open souce, puis cr\u00e9er un projet et enfin y ins\u00e9rer votre projet. Votre ordinateur a besoin de :\n",
        "\n",
        "* [git](https://git-scm.com/)\n",
        "* [GitHub destkop](https://desktop.github.com/)\n",
        "\n",
        "Vous pouvez lire [GitHub Pour les Nuls : Pas de Panique, Lancez-Vous ! (Premi\u00e8re Partie)](https://www.christopheducamp.com/2013/12/15/github-pour-nuls-partie-1/) et bien s\u00fbr faire plein de recherches internet.\n",
        "\n",
        "**Note**\n",
        "\n",
        "Tout ce que vous mettez sur GitHub pour un projet open-source est en acc\u00e8s libre. Veillez \u00e0 ne rien mettre de personnel. Un compte GitHub fait aussi partie des choses qu'un recruteur ira regarder en premier."
      ]
    },
    {
      "cell_type": "code",
      "execution_count": 8,
      "metadata": {
        "collapsed": true
      },
      "outputs": [],
      "source": []
    },
    {
      "cell_type": "markdown",
      "metadata": {},
      "source": [
        "Il y a des badges un peu pour tout."
      ]
    },
    {
      "cell_type": "markdown",
      "metadata": {},
      "source": [
        "## Ecrire un setup\n",
        "\n",
        "Le fichier ``setup.py`` d\u00e9termin la fa\u00e7on dont le module python doit \u00eatre install\u00e9 pour un utilisateur qui ne l'a pas d\u00e9velopp\u00e9. Comment construire un setup : [setup](https://docs.python.org/3.6/distutils/setupscript.html)."
      ]
    },
    {
      "cell_type": "code",
      "execution_count": 11,
      "metadata": {
        "collapsed": true
      },
      "outputs": [],
      "source": []
    },
    {
      "cell_type": "markdown",
      "metadata": {},
      "source": [
        "## Ecrire la documentation\n",
        "\n",
        "L'outil est le plus utilis\u00e9 est [sphinx](https://www.sphinx-doc.org/en/master/). Saurez-vous l'utiliser ?"
      ]
    },
    {
      "cell_type": "code",
      "execution_count": 12,
      "metadata": {
        "collapsed": true
      },
      "outputs": [],
      "source": []
    },
    {
      "cell_type": "markdown",
      "metadata": {},
      "source": [
        "## Derni\u00e8re \u00e9tape : PyPi\n",
        "\n",
        "[PyPi](https://pypi.python.org/pypi) est un serveur qui permet de mettre un module \u00e0 la disposition de tout le monde. Il suffit d'uploader le module... [Packaging and Distributing Projects](https://packaging.python.org/tutorials/distributing-packages/) ou [How to submit a package to PyPI](http://peterdowns.com/posts/first-time-with-pypi.html). PyPi permet aussi l'insertion de badge."
      ]
    },
    {
      "cell_type": "code",
      "execution_count": 14,
      "metadata": {
        "collapsed": true
      },
      "outputs": [],
      "source": []
    }
  ],
  "metadata": {
    "kernelspec": {
      "display_name": "Python 3",
      "language": "python",
      "name": "python3"
    },
    "language_info": {
      "codemirror_mode": {
        "name": "ipython",
        "version": 3
      },
      "file_extension": ".py",
      "mimetype": "text/x-python",
      "name": "python",
      "nbconvert_exporter": "python",
      "pygments_lexer": "ipython3",
      "version": "3.6.1"
    }
  },
  "nbformat": 4,
  "nbformat_minor": 2
}